{
 "cells": [
  {
   "cell_type": "code",
   "execution_count": 1,
   "metadata": {},
   "outputs": [],
   "source": [
    "from pyspark import SparkContext, SparkConf\n",
    "from pyspark.sql import SparkSession, HiveContext\n",
    "\n",
    "spark = SparkSession.builder \\\n",
    ".master(\"local[*]\") \\\n",
    ".appName(\"sample_load_s3\") \\\n",
    ".enableHiveSupport() \\\n",
    ".config(\"spark.submit.deployMode\",\"client\") \\\n",
    ".config(\"spark.hadoop.fs.s3a.impl\",\"org.apache.hadoop.fs.s3a.S3AFileSystem\") \\\n",
    ".config(\"spark.hadoop.fs.s3a.aws.credentials.provider\",\"org.apache.hadoop.fs.s3a.SimpleAWSCredentialsProvider\") \\\n",
    ".config(\"spark.hadoop.com.amazonaws.services.s3.enableV4\",\"true\") \\\n",
    ".config(\"spark.hadoop.fs.s3a.endpoint\",\"https://s3.eu-central-1.amazonaws.com\") \\\n",
    ".config(\"spark.hadoop.hadoop.security.credential.provider.path\",\"jceks://hdfs/user/data_sci/igl_aws.jceks\") \\\n",
    ".config(\"spark.jars\",\"hdfs://hadoop-supercrunch-mvp/user/data_sci/spark-avro_2.11-4.0.0.jar\") \\\n",
    ".getOrCreate()\n",
    "\n"
   ]
  },
  {
   "cell_type": "code",
   "execution_count": 20,
   "metadata": {},
   "outputs": [],
   "source": [
    "rawWeatherData = spark.read.text(\"s3a://dimajix-training/data/weather/2003\")\n",
    "\n",
    "# https://console.aws.amazon.com/s3/buckets/dimajix-training/data/?region=eu-central-1&tab=overview\n",
    "\n",
    "# s3://dimajix-training/data/weather\n",
    "    \n",
    "    \n",
    "# s3a://algo-output/20170401999007/brand-equity-digicam-cn-24-20170401/part-00000-f7111240-59a6-4323-9ae9-fa774b09e182-c000.avro"
   ]
  },
  {
   "cell_type": "code",
   "execution_count": 21,
   "metadata": {},
   "outputs": [
    {
     "name": "stdout",
     "output_type": "stream",
     "text": [
      "+------+-----+-------------------+----------+-----------+--------------+-------------------+----------------+----------+---------------+---------------+--------------------+\n",
      "|  usaf| wban|          timestamp|        ts|report_type|wind_direction|wind_direction_qual|wind_observation|wind_speed|wind_speed_qual|air_temperature|air_temperature_qual|\n",
      "+------+-----+-------------------+----------+-----------+--------------+-------------------+----------------+----------+---------------+---------------+--------------------+\n",
      "|703160|25624|2003-01-01 00:00:00|1041379200|      SY-MT|           010|                  5|               N|       5.2|              5|           -0.6|                   5|\n",
      "|703160|25624|2003-01-01 00:17:00|1041380220|      FM-16|           020|                  1|               N|       4.6|              1|           -2.0|                   1|\n",
      "|703160|25624|2003-01-01 00:53:00|1041382380|      FM-15|           010|                  5|               N|       5.2|              5|           -2.8|                   5|\n",
      "|703160|25624|2003-01-01 01:00:00|1041382800|      NSRDB|           999|                  9|               9|     999.9|              9|          999.9|                   9|\n",
      "|703160|25624|2003-01-01 01:53:00|1041385980|      FM-15|           010|                  5|               N|       6.2|              5|           -2.2|                   5|\n",
      "|703160|25624|2003-01-01 02:00:00|1041386400|      NSRDB|           999|                  9|               9|     999.9|              9|          999.9|                   9|\n",
      "|703160|25624|2003-01-01 02:53:00|1041389580|      FM-15|           010|                  5|               N|       7.2|              5|           -3.3|                   5|\n",
      "|703160|25624|2003-01-01 03:00:00|1041390000|      NSRDB|           999|                  9|               9|     999.9|              9|          999.9|                   9|\n",
      "|703160|25624|2003-01-01 03:53:00|1041393180|      FM-15|           020|                  5|               N|       6.2|              5|           -1.1|                   5|\n",
      "|703160|25624|2003-01-01 04:00:00|1041393600|      NSRDB|           999|                  9|               9|     999.9|              9|          999.9|                   9|\n",
      "|703160|25624|2003-01-01 04:53:00|1041396780|      FM-15|           070|                  5|               N|       8.8|              5|            1.7|                   5|\n",
      "|703160|25624|2003-01-01 05:00:00|1041397200|      NSRDB|           999|                  9|               9|     999.9|              9|          999.9|                   9|\n",
      "|703160|25624|2003-01-01 05:53:00|1041400380|      FM-15|           070|                  1|               N|       8.2|              1|            2.0|                   1|\n",
      "|703160|25624|2003-01-01 06:00:00|1041400800|      SY-MT|           070|                  5|               N|       8.2|              5|            1.7|                   5|\n",
      "|703160|25624|2003-01-01 06:53:00|1041403980|      FM-15|           360|                  5|               N|       6.7|              5|           -2.8|                   5|\n",
      "|703160|25624|2003-01-01 07:00:00|1041404400|      NSRDB|           999|                  9|               9|     999.9|              9|          999.9|                   9|\n",
      "|703160|25624|2003-01-01 07:53:00|1041407580|      FM-15|           020|                  5|               N|       7.2|              5|           -1.7|                   5|\n",
      "|703160|25624|2003-01-01 08:00:00|1041408000|      NSRDB|           999|                  9|               9|     999.9|              9|          999.9|                   9|\n",
      "|703160|25624|2003-01-01 08:53:00|1041411180|      FM-15|           350|                  5|               N|       5.7|              5|           -2.8|                   5|\n",
      "|703160|25624|2003-01-01 09:00:00|1041411600|      NSRDB|           999|                  9|               9|     999.9|              9|          999.9|                   9|\n",
      "+------+-----+-------------------+----------+-----------+--------------+-------------------+----------------+----------+---------------+---------------+--------------------+\n",
      "only showing top 20 rows\n",
      "\n"
     ]
    }
   ],
   "source": [
    "from pyspark.sql.types import *\n",
    "from pyspark.sql.functions import *\n",
    "\n",
    "\n",
    "weatherData = rawWeatherData.select(\n",
    "    substring(col(\"value\"),5,6).alias(\"usaf\"),\n",
    "    substring(col(\"value\"),11,5).alias(\"wban\"),\n",
    "    to_timestamp(substring(col(\"value\"),16,12),\"yyyyMMddHHmm\").alias(\"timestamp\"),\n",
    "    to_timestamp(substring(col(\"value\"),16,12),\"yyyyMMddHHmm\").cast(\"long\").alias(\"ts\"),\n",
    "    substring(col(\"value\"),42,5).alias(\"report_type\"),\n",
    "    substring(col(\"value\"),61,3).alias(\"wind_direction\"),\n",
    "    substring(col(\"value\"),64,1).alias(\"wind_direction_qual\"),\n",
    "    substring(col(\"value\"),65,1).alias(\"wind_observation\"),\n",
    "    (substring(col(\"value\"),66,4).cast(\"float\") / lit(10.0)).alias(\"wind_speed\"),\n",
    "    substring(col(\"value\"),70,1).alias(\"wind_speed_qual\"),\n",
    "    (substring(col(\"value\"),88,5).cast(\"float\") / lit(10.0)).alias(\"air_temperature\"),\n",
    "    substring(col(\"value\"),93,1).alias(\"air_temperature_qual\")\n",
    ").show()\n"
   ]
  }
 ],
 "metadata": {
  "kernelspec": {
   "display_name": "Python 3",
   "language": "python",
   "name": "python3"
  },
  "language_info": {
   "codemirror_mode": {
    "name": "ipython",
    "version": 3
   },
   "file_extension": ".py",
   "mimetype": "text/x-python",
   "name": "python",
   "nbconvert_exporter": "python",
   "pygments_lexer": "ipython3",
   "version": "3.6.4"
  }
 },
 "nbformat": 4,
 "nbformat_minor": 2
}
